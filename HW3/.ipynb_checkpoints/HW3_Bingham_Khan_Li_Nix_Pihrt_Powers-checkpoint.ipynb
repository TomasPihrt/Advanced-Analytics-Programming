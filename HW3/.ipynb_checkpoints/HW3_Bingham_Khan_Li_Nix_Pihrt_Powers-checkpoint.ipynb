{
 "cells": [
  {
   "cell_type": "markdown",
   "metadata": {},
   "source": [
    "## HW 3"
   ]
  },
  {
   "cell_type": "markdown",
   "metadata": {},
   "source": [
    "## Q1 - Read the data"
   ]
  },
  {
   "cell_type": "markdown",
   "metadata": {},
   "source": [
    "<h3>Data Description</h3>\n",
    "<table>\n",
    "    <tr>\n",
    "        <th>Column Name</th>\n",
    "        <th>Position</th>\n",
    "        <th>DataFrame Name</th>\n",
    "    </tr>\n",
    "    <tr>\n",
    "        <td>County Name</td>\n",
    "        <td>1-38</td>\n",
    "        <td>County</td>\n",
    "    </tr>\n",
    "    <tr>\n",
    "        <td>Percent voting for Clinton in 1992</td>\n",
    "        <td>40-45</td>\n",
    "        <td>Clinton</td>\n",
    "    </tr>\n",
    "    <tr>\n",
    "        <td>Median Age</td>\n",
    "        <td>49-52</td>\n",
    "        <td>Age</td>\n",
    "    </tr>\n",
    "    <tr>\n",
    "        <td>Mean Savings (&#36;)</td>\n",
    "        <td>56-61</td>\n",
    "        <td>Savings</td>\n",
    "    </tr>\n",
    "    <tr>\n",
    "        <td>PerCapita Income (&#36;)</td>\n",
    "        <td>65-69</td>\n",
    "        <td>Income</td>\n",
    "    </tr>\n",
    "    <tr>\n",
    "        <td>Percent in Poverty</td>\n",
    "        <td>73-77</td>\n",
    "        <td>Poverty</td>\n",
    "    </tr>\n",
    "    <tr>\n",
    "        <td>Percent Veterans</td>\n",
    "        <td>81-85</td>\n",
    "        <td>Veterans</td>\n",
    "    </tr>\n",
    "    <tr>\n",
    "        <td>Percent Female</td>\n",
    "        <td>89-94</td>\n",
    "        <td>Female</td>\n",
    "    </tr>\n",
    "    <tr>\n",
    "        <td>Population Density</td>\n",
    "        <td>98-105</td>\n",
    "        <td>Density</td>\n",
    "    </tr>\n",
    "    <tr>\n",
    "        <td>Percent in Nursing Homes</td>\n",
    "        <td>109-114</td>\n",
    "        <td>Nursing</td>\n",
    "    </tr>\n",
    "    <tr>\n",
    "        <td>Crime Index (Per capita)</td>\n",
    "        <td>118-123</td>\n",
    "        <td>Crime</td>\n",
    "    </tr>    \n",
    "</table>"
   ]
  },
  {
   "cell_type": "code",
   "execution_count": 1,
   "metadata": {
    "collapsed": false
   },
   "outputs": [
    {
     "data": {
      "text/plain": [
       "County      Autauga, ALBaldwin, ALBarbour, ALBlount, ALBul...\n",
       "Clinton                                                107105\n",
       "Age                                                     93138\n",
       "Savings                                             243196049\n",
       "Income                                               44316631\n",
       "Poverty                                               43480.3\n",
       "Veterans                                              30886.9\n",
       "Female                                                 137911\n",
       "Density                                                527919\n",
       "Nursing                                               25623.4\n",
       "Crime                                                  823347\n",
       "dtype: object"
      ]
     },
     "execution_count": 1,
     "metadata": {},
     "output_type": "execute_result"
    }
   ],
   "source": [
    "import pandas as pd\n",
    "\n",
    "#using pandas with a column specification   \n",
    "col_specification =[(0, 37), (39, 44), (47, 51), (54, 60),\n",
    "                    (63, 68), (71, 76), (79, 84), (87, 93), (95, 104),\n",
    "                   (105, 113), (115, 122)]\n",
    "data = pd.read_fwf('http://www.stat.ufl.edu/~winner/data/clinton1.dat',\n",
    "                   colspecs = col_specification,\n",
    "                   header = None,\n",
    "                   names = ('County', 'Clinton', 'Age', 'Savings','Income', 'Poverty', \n",
    "                            'Veterans', 'Female', 'Density', 'Nursing', 'Crime')\n",
    "                  )\n",
    "# Checksum to verify that data were loaded successfully\n",
    "data.sum()"
   ]
  }
 ],
 "metadata": {
  "anaconda-cloud": {},
  "kernelspec": {
   "display_name": "Python [conda root]",
   "language": "python",
   "name": "conda-root-py"
  },
  "language_info": {
   "codemirror_mode": {
    "name": "ipython",
    "version": 2
   },
   "file_extension": ".py",
   "mimetype": "text/x-python",
   "name": "python",
   "nbconvert_exporter": "python",
   "pygments_lexer": "ipython2",
   "version": "2.7.12"
  }
 },
 "nbformat": 4,
 "nbformat_minor": 1
}
