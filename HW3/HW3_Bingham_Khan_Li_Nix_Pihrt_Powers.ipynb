{
 "cells": [
  {
   "cell_type": "markdown",
   "metadata": {
    "deletable": true,
    "editable": true
   },
   "source": [
    "## HW 3"
   ]
  },
  {
   "cell_type": "markdown",
   "metadata": {
    "deletable": true,
    "editable": true
   },
   "source": [
    "# Q1 - Read the data\n",
    "[Q1 8 points] Read the data. Read in the data from http://www.stat. ufl.edu/~winner/data/clinton1.dat. Note that this is NOT a CSV file. The description of the data fields are present in http://www.stat.ufl. edu/~winner/data/clinton1.txt. You will have to figure out the right parameters for the read csv command yourself (e.g., the regular expression for the delimiter, and the names of the columns)."
   ]
  },
  {
   "cell_type": "markdown",
   "metadata": {
    "deletable": true,
    "editable": true
   },
   "source": [
    "<h5>Data Description</h5>\n",
    "<table>\n",
    "    <tr>\n",
    "        <th>Column Name</th>\n",
    "        <th>Position</th>\n",
    "        <th>DataFrame Name</th>\n",
    "    </tr>\n",
    "    <tr>\n",
    "        <td>County Name</td>\n",
    "        <td>1-38</td>\n",
    "        <td>County</td>\n",
    "    </tr>\n",
    "    <tr>\n",
    "        <td>Percent voting for Clinton in 1992</td>\n",
    "        <td>40-45</td>\n",
    "        <td>percentVoting</td>\n",
    "    </tr>\n",
    "    <tr>\n",
    "        <td>Median Age</td>\n",
    "        <td>49-52</td>\n",
    "        <td>Age</td>\n",
    "    </tr>\n",
    "    <tr>\n",
    "        <td>Mean Savings (&#36;)</td>\n",
    "        <td>56-61</td>\n",
    "        <td>Savings</td>\n",
    "    </tr>\n",
    "    <tr>\n",
    "        <td>PerCapita Income (&#36;)</td>\n",
    "        <td>65-69</td>\n",
    "        <td>Income</td>\n",
    "    </tr>\n",
    "    <tr>\n",
    "        <td>Percent in Poverty</td>\n",
    "        <td>73-77</td>\n",
    "        <td>Poverty</td>\n",
    "    </tr>\n",
    "    <tr>\n",
    "        <td>Percent Veterans</td>\n",
    "        <td>81-85</td>\n",
    "        <td>Veterans</td>\n",
    "    </tr>\n",
    "    <tr>\n",
    "        <td>Percent Female</td>\n",
    "        <td>89-94</td>\n",
    "        <td>Female</td>\n",
    "    </tr>\n",
    "    <tr>\n",
    "        <td>Population Density</td>\n",
    "        <td>98-105</td>\n",
    "        <td>Density</td>\n",
    "    </tr>\n",
    "    <tr>\n",
    "        <td>Percent in Nursing Homes</td>\n",
    "        <td>109-114</td>\n",
    "        <td>NursingHomes</td>\n",
    "    </tr>\n",
    "    <tr>\n",
    "        <td>Crime Index (Per capita)</td>\n",
    "        <td>118-123</td>\n",
    "        <td>CrimeIndex</td>\n",
    "    </tr>    \n",
    "</table>"
   ]
  },
  {
   "cell_type": "markdown",
   "metadata": {
    "deletable": true,
    "editable": true
   },
   "source": [
    "### Method:\n",
    "\n",
    "Read in the data using read_csv: <br />\n",
    "    (1) put \"County\" as the index column because it is a unique index for each row <br />\n",
    "    (2) use more the regular expression for more than 2 whitespaces to delimiter each column <br />\n",
    "    (3) show the first 5 rows to check the data <br />"
   ]
  },
  {
   "cell_type": "code",
   "execution_count": 1,
   "metadata": {
    "collapsed": false,
    "deletable": true,
    "editable": true
   },
   "outputs": [
    {
     "name": "stdout",
     "output_type": "stream",
     "text": [
      "Populating the interactive namespace from numpy and matplotlib\n"
     ]
    },
    {
     "data": {
      "text/html": [
       "<div>\n",
       "<table border=\"1\" class=\"dataframe\">\n",
       "  <thead>\n",
       "    <tr style=\"text-align: right;\">\n",
       "      <th></th>\n",
       "      <th>percentVoting</th>\n",
       "      <th>Age</th>\n",
       "      <th>Savings</th>\n",
       "      <th>Income</th>\n",
       "      <th>Poverty</th>\n",
       "      <th>Veterans</th>\n",
       "      <th>Female</th>\n",
       "      <th>Density</th>\n",
       "      <th>NursingHomes</th>\n",
       "      <th>CrimeIndex</th>\n",
       "    </tr>\n",
       "    <tr>\n",
       "      <th>County</th>\n",
       "      <th></th>\n",
       "      <th></th>\n",
       "      <th></th>\n",
       "      <th></th>\n",
       "      <th></th>\n",
       "      <th></th>\n",
       "      <th></th>\n",
       "      <th></th>\n",
       "      <th></th>\n",
       "      <th></th>\n",
       "    </tr>\n",
       "  </thead>\n",
       "  <tbody>\n",
       "    <tr>\n",
       "      <th>Autauga, AL</th>\n",
       "      <td>30.92</td>\n",
       "      <td>31.7</td>\n",
       "      <td>57623</td>\n",
       "      <td>15768</td>\n",
       "      <td>15.2</td>\n",
       "      <td>10.74</td>\n",
       "      <td>51.41</td>\n",
       "      <td>60.4</td>\n",
       "      <td>2.36</td>\n",
       "      <td>457</td>\n",
       "    </tr>\n",
       "    <tr>\n",
       "      <th>Baldwin, AL</th>\n",
       "      <td>26.24</td>\n",
       "      <td>35.5</td>\n",
       "      <td>84935</td>\n",
       "      <td>16954</td>\n",
       "      <td>13.6</td>\n",
       "      <td>9.73</td>\n",
       "      <td>51.34</td>\n",
       "      <td>66.5</td>\n",
       "      <td>5.40</td>\n",
       "      <td>282</td>\n",
       "    </tr>\n",
       "    <tr>\n",
       "      <th>Barbour, AL</th>\n",
       "      <td>46.36</td>\n",
       "      <td>32.8</td>\n",
       "      <td>83656</td>\n",
       "      <td>15532</td>\n",
       "      <td>25.0</td>\n",
       "      <td>8.82</td>\n",
       "      <td>53.03</td>\n",
       "      <td>28.8</td>\n",
       "      <td>7.02</td>\n",
       "      <td>47</td>\n",
       "    </tr>\n",
       "    <tr>\n",
       "      <th>Blount, AL</th>\n",
       "      <td>32.92</td>\n",
       "      <td>34.5</td>\n",
       "      <td>61249</td>\n",
       "      <td>14820</td>\n",
       "      <td>15.0</td>\n",
       "      <td>9.67</td>\n",
       "      <td>51.15</td>\n",
       "      <td>62.4</td>\n",
       "      <td>2.36</td>\n",
       "      <td>185</td>\n",
       "    </tr>\n",
       "    <tr>\n",
       "      <th>Bullock, AL</th>\n",
       "      <td>67.67</td>\n",
       "      <td>31.7</td>\n",
       "      <td>75725</td>\n",
       "      <td>11120</td>\n",
       "      <td>33.0</td>\n",
       "      <td>7.08</td>\n",
       "      <td>50.76</td>\n",
       "      <td>17.6</td>\n",
       "      <td>2.91</td>\n",
       "      <td>141</td>\n",
       "    </tr>\n",
       "  </tbody>\n",
       "</table>\n",
       "</div>"
      ],
      "text/plain": [
       "             percentVoting   Age  Savings  Income  Poverty  Veterans  Female  \\\n",
       "County                                                                         \n",
       "Autauga, AL          30.92  31.7    57623   15768     15.2     10.74   51.41   \n",
       "Baldwin, AL          26.24  35.5    84935   16954     13.6      9.73   51.34   \n",
       "Barbour, AL          46.36  32.8    83656   15532     25.0      8.82   53.03   \n",
       "Blount, AL           32.92  34.5    61249   14820     15.0      9.67   51.15   \n",
       "Bullock, AL          67.67  31.7    75725   11120     33.0      7.08   50.76   \n",
       "\n",
       "             Density  NursingHomes  CrimeIndex  \n",
       "County                                          \n",
       "Autauga, AL     60.4          2.36         457  \n",
       "Baldwin, AL     66.5          5.40         282  \n",
       "Barbour, AL     28.8          7.02          47  \n",
       "Blount, AL      62.4          2.36         185  \n",
       "Bullock, AL     17.6          2.91         141  "
      ]
     },
     "execution_count": 1,
     "metadata": {},
     "output_type": "execute_result"
    }
   ],
   "source": [
    "from pandas import Series, DataFrame\n",
    "import pandas as pd\n",
    "\n",
    "%pylab inline\n",
    "\n",
    "#using pandas with a column specification   \n",
    "Clinton_df = pd.read_csv('http://www.stat.ufl.edu/~winner/data/clinton1.dat',\n",
    "                           sep = '\\s\\s+',\n",
    "                           index_col = 'County',\n",
    "                           header=None,\n",
    "                           names = ('County', 'percentVoting', 'Age', 'Savings','Income', 'Poverty'\n",
    "                                    , 'Veterans', 'Female', 'Density', 'NursingHomes', 'CrimeIndex'),\n",
    "                           engine = 'python'\n",
    "                        )\n",
    "\n",
    "#show the first ten lines of data\n",
    "Clinton_df[:5]"
   ]
  },
  {
   "cell_type": "markdown",
   "metadata": {
    "deletable": true,
    "editable": true
   },
   "source": [
    "# Q2 - Predict percentVoting\n",
    "[Q2 8 points] Predict percentVoting on all regressors. One of the\n",
    "fields in the data is “Percent voting for Clinton in 1992”; let’s call it percentVoting. Regress percentVoting on all available regressors. Which two regressors\n",
    "have the worst p-values?"
   ]
  },
  {
   "cell_type": "markdown",
   "metadata": {
    "deletable": true,
    "editable": true
   },
   "source": [
    "### Method\n",
    "\n",
    "(1) import the special packages for doing multiple regression <br />\n",
    "(2) create the dmatrices for y and X. \"County\" is not used because it is just an index for each row, and using it will not help the model performance <br />\n",
    "(3) show the y, and X to check whether the dmatrices is working <br />\n",
    "(4) set up the regression model and fit the model<br />\n",
    "(5) show the p-values for the regression result and compare the p-values<br />\n"
   ]
  },
  {
   "cell_type": "code",
   "execution_count": 2,
   "metadata": {
    "collapsed": false,
    "deletable": true,
    "editable": true
   },
   "outputs": [],
   "source": [
    "# Import the Special packages\n",
    "import statsmodels.api as sm\n",
    "from patsy import dmatrices\n",
    "\n",
    "# Step 1: Create design matrices\n",
    "y, X = dmatrices('percentVoting ~ Age + Savings + Income \\\n",
    "                                  + Poverty + Veterans + Female\\\n",
    "                                   + Density + NursingHomes + CrimeIndex' \n",
    "                 , data=Clinton_df \n",
    "                 , return_type='dataframe')"
   ]
  },
  {
   "cell_type": "code",
   "execution_count": 3,
   "metadata": {
    "collapsed": false,
    "deletable": true,
    "editable": true
   },
   "outputs": [
    {
     "name": "stdout",
     "output_type": "stream",
     "text": [
      "show y:\n"
     ]
    },
    {
     "data": {
      "text/html": [
       "<div>\n",
       "<table border=\"1\" class=\"dataframe\">\n",
       "  <thead>\n",
       "    <tr style=\"text-align: right;\">\n",
       "      <th></th>\n",
       "      <th>percentVoting</th>\n",
       "    </tr>\n",
       "    <tr>\n",
       "      <th>County</th>\n",
       "      <th></th>\n",
       "    </tr>\n",
       "  </thead>\n",
       "  <tbody>\n",
       "    <tr>\n",
       "      <th>Autauga, AL</th>\n",
       "      <td>30.92</td>\n",
       "    </tr>\n",
       "    <tr>\n",
       "      <th>Baldwin, AL</th>\n",
       "      <td>26.24</td>\n",
       "    </tr>\n",
       "    <tr>\n",
       "      <th>Barbour, AL</th>\n",
       "      <td>46.36</td>\n",
       "    </tr>\n",
       "    <tr>\n",
       "      <th>Blount, AL</th>\n",
       "      <td>32.92</td>\n",
       "    </tr>\n",
       "    <tr>\n",
       "      <th>Bullock, AL</th>\n",
       "      <td>67.67</td>\n",
       "    </tr>\n",
       "  </tbody>\n",
       "</table>\n",
       "</div>"
      ],
      "text/plain": [
       "             percentVoting\n",
       "County                    \n",
       "Autauga, AL          30.92\n",
       "Baldwin, AL          26.24\n",
       "Barbour, AL          46.36\n",
       "Blount, AL           32.92\n",
       "Bullock, AL          67.67"
      ]
     },
     "execution_count": 3,
     "metadata": {},
     "output_type": "execute_result"
    }
   ],
   "source": [
    "#show the first 5 rows of y\n",
    "print \"show y:\"\n",
    "y[:5]"
   ]
  },
  {
   "cell_type": "code",
   "execution_count": 4,
   "metadata": {
    "collapsed": false,
    "deletable": true,
    "editable": true
   },
   "outputs": [
    {
     "name": "stdout",
     "output_type": "stream",
     "text": [
      "show X:\n"
     ]
    },
    {
     "data": {
      "text/html": [
       "<div>\n",
       "<table border=\"1\" class=\"dataframe\">\n",
       "  <thead>\n",
       "    <tr style=\"text-align: right;\">\n",
       "      <th></th>\n",
       "      <th>Intercept</th>\n",
       "      <th>Age</th>\n",
       "      <th>Savings</th>\n",
       "      <th>Income</th>\n",
       "      <th>Poverty</th>\n",
       "      <th>Veterans</th>\n",
       "      <th>Female</th>\n",
       "      <th>Density</th>\n",
       "      <th>NursingHomes</th>\n",
       "      <th>CrimeIndex</th>\n",
       "    </tr>\n",
       "    <tr>\n",
       "      <th>County</th>\n",
       "      <th></th>\n",
       "      <th></th>\n",
       "      <th></th>\n",
       "      <th></th>\n",
       "      <th></th>\n",
       "      <th></th>\n",
       "      <th></th>\n",
       "      <th></th>\n",
       "      <th></th>\n",
       "      <th></th>\n",
       "    </tr>\n",
       "  </thead>\n",
       "  <tbody>\n",
       "    <tr>\n",
       "      <th>Autauga, AL</th>\n",
       "      <td>1.0</td>\n",
       "      <td>31.7</td>\n",
       "      <td>57623.0</td>\n",
       "      <td>15768.0</td>\n",
       "      <td>15.2</td>\n",
       "      <td>10.74</td>\n",
       "      <td>51.41</td>\n",
       "      <td>60.4</td>\n",
       "      <td>2.36</td>\n",
       "      <td>457.0</td>\n",
       "    </tr>\n",
       "    <tr>\n",
       "      <th>Baldwin, AL</th>\n",
       "      <td>1.0</td>\n",
       "      <td>35.5</td>\n",
       "      <td>84935.0</td>\n",
       "      <td>16954.0</td>\n",
       "      <td>13.6</td>\n",
       "      <td>9.73</td>\n",
       "      <td>51.34</td>\n",
       "      <td>66.5</td>\n",
       "      <td>5.40</td>\n",
       "      <td>282.0</td>\n",
       "    </tr>\n",
       "    <tr>\n",
       "      <th>Barbour, AL</th>\n",
       "      <td>1.0</td>\n",
       "      <td>32.8</td>\n",
       "      <td>83656.0</td>\n",
       "      <td>15532.0</td>\n",
       "      <td>25.0</td>\n",
       "      <td>8.82</td>\n",
       "      <td>53.03</td>\n",
       "      <td>28.8</td>\n",
       "      <td>7.02</td>\n",
       "      <td>47.0</td>\n",
       "    </tr>\n",
       "    <tr>\n",
       "      <th>Blount, AL</th>\n",
       "      <td>1.0</td>\n",
       "      <td>34.5</td>\n",
       "      <td>61249.0</td>\n",
       "      <td>14820.0</td>\n",
       "      <td>15.0</td>\n",
       "      <td>9.67</td>\n",
       "      <td>51.15</td>\n",
       "      <td>62.4</td>\n",
       "      <td>2.36</td>\n",
       "      <td>185.0</td>\n",
       "    </tr>\n",
       "    <tr>\n",
       "      <th>Bullock, AL</th>\n",
       "      <td>1.0</td>\n",
       "      <td>31.7</td>\n",
       "      <td>75725.0</td>\n",
       "      <td>11120.0</td>\n",
       "      <td>33.0</td>\n",
       "      <td>7.08</td>\n",
       "      <td>50.76</td>\n",
       "      <td>17.6</td>\n",
       "      <td>2.91</td>\n",
       "      <td>141.0</td>\n",
       "    </tr>\n",
       "  </tbody>\n",
       "</table>\n",
       "</div>"
      ],
      "text/plain": [
       "             Intercept   Age  Savings   Income  Poverty  Veterans  Female  \\\n",
       "County                                                                      \n",
       "Autauga, AL        1.0  31.7  57623.0  15768.0     15.2     10.74   51.41   \n",
       "Baldwin, AL        1.0  35.5  84935.0  16954.0     13.6      9.73   51.34   \n",
       "Barbour, AL        1.0  32.8  83656.0  15532.0     25.0      8.82   53.03   \n",
       "Blount, AL         1.0  34.5  61249.0  14820.0     15.0      9.67   51.15   \n",
       "Bullock, AL        1.0  31.7  75725.0  11120.0     33.0      7.08   50.76   \n",
       "\n",
       "             Density  NursingHomes  CrimeIndex  \n",
       "County                                          \n",
       "Autauga, AL     60.4          2.36       457.0  \n",
       "Baldwin, AL     66.5          5.40       282.0  \n",
       "Barbour, AL     28.8          7.02        47.0  \n",
       "Blount, AL      62.4          2.36       185.0  \n",
       "Bullock, AL     17.6          2.91       141.0  "
      ]
     },
     "execution_count": 4,
     "metadata": {},
     "output_type": "execute_result"
    }
   ],
   "source": [
    "#show the first five rows of X\n",
    "print \"show X:\"\n",
    "X[:5]"
   ]
  },
  {
   "cell_type": "code",
   "execution_count": 5,
   "metadata": {
    "collapsed": false,
    "deletable": true,
    "editable": true
   },
   "outputs": [
    {
     "name": "stdout",
     "output_type": "stream",
     "text": [
      "The two regressors that have the worse p-values: \n",
      "                   0\n",
      "Age         0.238619\n",
      "CrimeIndex  0.141950\n"
     ]
    }
   ],
   "source": [
    "# Step 2: set up and fit the regression model using y and X and get a series of the pvalue\n",
    "model = sm.OLS(y, X)       # Set up the model\n",
    "result = model.fit()       # Fit model (find the intercept and slopes)\n",
    "#result.summary()\n",
    "p_values_df = DataFrame(result.pvalues)\n",
    "\n",
    "#the worse 2 p-values\n",
    "print (\"The two regressors that have the worse p-values: \")\n",
    "print p_values_df.sort_values(by = 0, ascending=False)[:2]"
   ]
  },
  {
   "cell_type": "markdown",
   "metadata": {
    "deletable": true,
    "editable": true
   },
   "source": [
    "# Q3 - A formula-creating function\n",
    "[Q3 8 points] A formula-creating function. Write a function called \"formula\" that takes a list of regressors as input, and outputs the formula for regressing \"percentVoting\" on these regressors.<br/>\n",
    "\n",
    "For example, \"formula([’age’, ’savings’])\" should output \"percentVoting ∼ age + savings\"."
   ]
  },
  {
   "cell_type": "markdown",
   "metadata": {
    "deletable": true,
    "editable": true
   },
   "source": [
    "### Method\n",
    "(1) create a string variable called formula and populate the variable with 'percentVoting' to start <br/>\n",
    "(2) use a for loop to loop through the regressors_list, and add the regressors to the formula string <br/>\n",
    "(3) return the formula"
   ]
  },
  {
   "cell_type": "code",
   "execution_count": 6,
   "metadata": {
    "collapsed": false,
    "deletable": true,
    "editable": true
   },
   "outputs": [
    {
     "name": "stdout",
     "output_type": "stream",
     "text": [
      "percentVoting ~ age + saving\n"
     ]
    }
   ],
   "source": [
    "def formula(regressors_list):\n",
    "    \n",
    "    formula = 'percentVoting ~ '\n",
    "    for regressors in regressors_list:\n",
    "        if regressors != regressors_list[-1]:\n",
    "            formula += regressors + ' + '\n",
    "        else:\n",
    "            formula += regressors\n",
    "    return formula\n",
    "    \n",
    "\n",
    "#testing\n",
    "print formula(['age','saving'])            "
   ]
  },
  {
   "cell_type": "markdown",
   "metadata": {
    "deletable": true,
    "editable": true
   },
   "source": [
    "# Q4 - R-squared computation function\n",
    "[Q4 8 points] R-squared computation function. Write a function called \"rsquared\" that, given a list of regressors, returns the R-squared corresponding to a regression of \"percentVoting\" with respect to the list of regressors. <br/>\n",
    "\n",
    "You can use the \"formula\" function you wrote above."
   ]
  },
  {
   "cell_type": "markdown",
   "metadata": {
    "deletable": true,
    "editable": true
   },
   "source": [
    "### Method\n",
    "(1) use the formula function to create the string to put into the dmatrices, for creating y, and X for regression <br/>\n",
    "(2) use dmatrices to define y, X <br/>\n",
    "(3) set up the regression model and fit the regression model <br/>\n",
    "(4) return the rsqured from the model result"
   ]
  },
  {
   "cell_type": "code",
   "execution_count": 7,
   "metadata": {
    "collapsed": false,
    "deletable": true,
    "editable": true
   },
   "outputs": [
    {
     "name": "stdout",
     "output_type": "stream",
     "text": [
      "0.0197670966596\n"
     ]
    }
   ],
   "source": [
    "def rsquared(regressors_list):\n",
    "    \n",
    "    \n",
    "    y, X = dmatrices(str( formula(regressors_list) )\n",
    "                     , data=Clinton_df \n",
    "                     , return_type='dataframe')\n",
    "    \n",
    "    model = sm.OLS(y, X)       # Set up the model\n",
    "    result = model.fit()       # Fit model (find the intercept and slopes)\n",
    "    rq = result.rsquared\n",
    "    \n",
    "    return rq\n",
    "\n",
    "#test to check the result\n",
    "print rsquared( ['Age','Savings'] )"
   ]
  },
  {
   "cell_type": "markdown",
   "metadata": {
    "deletable": true,
    "editable": true
   },
   "source": [
    "# Q5 - Find the next best regressor\n",
    "[Q5 8 points] Find the next best regressor. Write a function called\n",
    "\"best_next_regressor\" that, given a list of regressors (called \"current_regressor_list\") and the list of all possible regressors (called \"all_regressors_list\"), picks one regressor from \"all_regressors_list that, when combined with the regressors in \"current_regressor_list\", yields the highest R-square. <br/><br/>\n",
    "The function should return this regressor, and the corresponding R-square.\n"
   ]
  },
  {
   "cell_type": "markdown",
   "metadata": {
    "deletable": true,
    "editable": true
   },
   "source": [
    "### Method \n",
    "(1) define a varible for the best r-squre so that we can compare with it <br/>\n",
    "(2) define a varible for the best next regressor, so that we can record it <br/>\n",
    "(3) loop through the regressors in all_regressors_list one by one, and append them to a copy of the current_regressors_list, named as temp_regressors_list<br/>\n",
    "(4) put this temp_regressors_list into the rsquared function created above, and return a r-square than can compared to the best r-square we have so far <br/>\n",
    "(5) if it is better, update the best r-square and best regressors"
   ]
  },
  {
   "cell_type": "code",
   "execution_count": 8,
   "metadata": {
    "collapsed": false,
    "deletable": true,
    "editable": true
   },
   "outputs": [
    {
     "name": "stdout",
     "output_type": "stream",
     "text": [
      "The next best regressor and rsquared respectively is: Poverty , 0.253668669744\n"
     ]
    }
   ],
   "source": [
    "import copy \n",
    "\n",
    "def best_next_regressor(current_regressor_list, all_regressors_list):\n",
    "    \n",
    "    # if nothing in the current_regressor_list, \n",
    "    # the current best r-squre should be 0\n",
    "    if len(current_regressor_list) == 0:\n",
    "        best_rsquared = 0\n",
    "    # else, the current best r-squre should be that from the current_regressor_list\n",
    "    else:\n",
    "        best_rsquared = rsquared(current_regressor_list)  \n",
    "        \n",
    "    best_regressor = \"\"\n",
    "    \n",
    "    for regressor in all_regressors_list:\n",
    "        \n",
    "        temp_regressors_list = copy.deepcopy(current_regressor_list)\n",
    "\n",
    "        if (regressor not in current_regressor_list) and (regressor != 'percentVoting'):\n",
    "            temp_regressors_list.append(regressor)\n",
    "            temp_rsquare = rsquared(temp_regressors_list)\n",
    "         \n",
    "            if temp_rsquare > best_rsquared:\n",
    "                best_rsquared = temp_rsquare\n",
    "                best_regressor = regressor\n",
    "                \n",
    "    return best_regressor, best_rsquared\n",
    "\n",
    "#test \n",
    "out_regressor, out_rsquared = best_next_regressor(['Age','Savings'], list(Clinton_df))\n",
    "print \"The next best regressor and rsquared respectively is:\", out_regressor,\",\", out_rsquared"
   ]
  },
  {
   "cell_type": "markdown",
   "metadata": {
    "deletable": true,
    "editable": true
   },
   "source": [
    "# Q6 - Pick the k best regressors\n",
    "[Q6 8 points] Pick the k best regressors. Write a function called \"best_regressors\" that takes two arguments: <br\\ >\n",
    "• \"num_regressors\", which is the number of regressors we want, and<br\\ >\n",
    "• \"all_regressors_list\", which again is the list of all possible regressors.<br\\ ><br\\ >\n",
    "The function should compute the best \"num_regressors\" regressors by picking them one at a time using \"best_next_regressor\" that you wrote above. The function should return a tuple of the following items:<br\\ >\n",
    "• a list of the best regressors, in the order in which they were picked, and<br\\ >\n",
    "• the corresponding R-square values.<br\\ ><br\\ >\n",
    "In other words, you want a list of the results of calling \"best_next_regressor\".<br\\ >"
   ]
  },
  {
   "cell_type": "markdown",
   "metadata": {
    "deletable": true,
    "editable": true
   },
   "source": [
    "### Method \n",
    "(1) create a empty list to append the best_regressors each time we got from the best_next_regressor function <br/>\n",
    "(2) use a for loop to run num_regressors time the the best_next_regressor function, and get populate the list of the best_regressors <br/>\n",
    "(3) return the best_regressors list and the corresponding r-square to these regressors"
   ]
  },
  {
   "cell_type": "code",
   "execution_count": 9,
   "metadata": {
    "collapsed": false,
    "deletable": true,
    "editable": true
   },
   "outputs": [
    {
     "name": "stdout",
     "output_type": "stream",
     "text": [
      "[('Poverty', 0.25103851961631973), ('Density', 0.28582980229105803), ('Female', 0.30914506632485805)]\n"
     ]
    }
   ],
   "source": [
    "def best_regressors (num_regressors, all_regressors_list):\n",
    "    best_regressors = [] \n",
    "    best_rsquares = []\n",
    "    regressors_and_rsquares = []\n",
    "    temp = ()\n",
    "    for i in range(num_regressors):\n",
    "        #out_regressor, out_rsquared = best_next_regressor(best_regressors, all_regressors_list)\n",
    "        temp = (best_next_regressor(best_regressors, all_regressors_list))\n",
    "        best_regressors.append(temp[0])\n",
    "        regressors_and_rsquares.append(temp)\n",
    "                \n",
    "    return regressors_and_rsquares\n",
    "\n",
    "#test\n",
    "print best_regressors(3,list(Clinton_df))"
   ]
  },
  {
   "cell_type": "markdown",
   "metadata": {
    "deletable": true,
    "editable": true
   },
   "source": [
    "# Q7 - Order all regressors in the best order\n",
    "[Q7 8 points] Order all regressors in the best order. Run \"best_regressors\" to output all available regressors in sequence. In other words, the first item\n",
    "in the result should be the best single regressor, the second item should be\n",
    "the next best regressor that combined with the first regressor gives the best R-square, and so on. <br/>\n",
    "This idea of ordering the regressors in this particular order is called forward selection, and is one way of selecting only a few regressors when given a large set of regressors."
   ]
  },
  {
   "cell_type": "markdown",
   "metadata": {},
   "source": [
    "### Method\n",
    "run best_regressors by inputing len(list(Clinton))-1 and list(Clinton_df), which is the list of the column header"
   ]
  },
  {
   "cell_type": "code",
   "execution_count": 10,
   "metadata": {
    "collapsed": false,
    "deletable": true,
    "editable": true
   },
   "outputs": [
    {
     "name": "stdout",
     "output_type": "stream",
     "text": [
      "[('Poverty', 0.25103851961631973), ('Density', 0.28582980229105803), ('Female', 0.30914506632485805), ('Savings', 0.31924118502370491), ('Veterans', 0.32299256887291683), ('NursingHomes', 0.32485127138693681), ('Income', 0.32582492389958861), ('CrimeIndex', 0.32655325570492555), ('Age', 0.32690038725174031)]\n"
     ]
    }
   ],
   "source": [
    " print best_regressors(len(list(Clinton_df))-1,list(Clinton_df))\n"
   ]
  },
  {
   "cell_type": "markdown",
   "metadata": {
    "deletable": true,
    "editable": true
   },
   "source": [
    "# Q8 - Plot \n",
    "[Q8 8 points] Plot the R-squared values as regressors are added in the best order."
   ]
  },
  {
   "cell_type": "code",
   "execution_count": 11,
   "metadata": {
    "collapsed": false,
    "deletable": true,
    "editable": true
   },
   "outputs": [
    {
     "data": {
      "text/plain": [
       "[<matplotlib.lines.Line2D at 0xba7c940>]"
      ]
     },
     "execution_count": 11,
     "metadata": {},
     "output_type": "execute_result"
    },
    {
     "data": {
      "image/png": "[encoded data removed]",
      "text/plain": [
       "<matplotlib.figure.Figure at 0xb968828>"
      ]
     },
     "metadata": {},
     "output_type": "display_data"
    }
   ],
   "source": [
    "# if not labling the x axis\n",
    "\n",
    "plot_data = {}\n",
    "for i in range(len(list(Clinton_df))-1):\n",
    "    temp = best_regressors(i+1,list(Clinton_df))\n",
    "    out_rsquared = temp[i][1]\n",
    "    plot_data.update({i+1 : out_rsquared})\n",
    "plot(Series(plot_data))"
   ]
  },
  {
   "cell_type": "code",
   "execution_count": 12,
   "metadata": {
    "collapsed": false,
    "deletable": true,
    "editable": true
   },
   "outputs": [
    {
     "data": {
      "image/png": "[encoded data removed]",
      "text/plain": [
       "<matplotlib.figure.Figure at 0xb939278>"
      ]
     },
     "metadata": {},
     "output_type": "display_data"
    }
   ],
   "source": [
    "#if labling the x-axis \n",
    "\n",
    "import matplotlib.pyplot as plt\n",
    "import numpy as np\n",
    "\n",
    "temp = best_regressors(len(list(Clinton_df))-1,list(Clinton_df))\n",
    "out_regressors = []\n",
    "out_rsquared = temp[0][1]\n",
    "y_data = []\n",
    "for i in range(len(list(Clinton_df))-1):\n",
    "    temp = best_regressors(i+1,list(Clinton_df))\n",
    "    out_regressors.append(temp[i][0])\n",
    "    out_rsquared = temp[i][1]\n",
    "    y_data.append(out_rsquared)\n",
    "\n",
    "x_list = []\n",
    "for i in range(len(temp)):\n",
    "    x_list.append(i+1)\n",
    "\n",
    "    \n",
    "    \n",
    "x = np.array(x_list)\n",
    "y = np.array(y_data)\n",
    "\n",
    "my_xticks = out_regressors\n",
    "plt.figure(figsize=(13,8))\n",
    "plt.xticks(x, my_xticks)\n",
    "plt.plot(x, y)\n",
    "plt.show()\n"
   ]
  },
  {
   "cell_type": "markdown",
   "metadata": {
    "deletable": true,
    "editable": true
   },
   "source": [
    "# K-Nearest Neighbors Classification\n",
    "<br/>\n",
    "We will work with the same dataset as above."
   ]
  },
  {
   "cell_type": "markdown",
   "metadata": {
    "deletable": true,
    "editable": true
   },
   "source": [
    "# Q9 - Create a classification target\n",
    "[Q9 8 points] Create a classification target. Attach a new column, called target to the DataFrame, whose value for each row is either 1 (if percentVoting is at least 40:0), or 0 (percentVoting is less than 40:0)."
   ]
  },
  {
   "cell_type": "markdown",
   "metadata": {},
   "source": [
    "### Method \n",
    "\n",
    "(1) make a deepcopy of the Clinton_df DataFrame, so that we won't modify any work above  <br\\>\n",
    "(2) create a mask = Clinton_df_copy['percentVoting'] >= 40  <br\\>\n",
    "(3) create a new column name target with all 0 as the values   <br\\>\n",
    "(4) use the ix method, and the mask, to update the DataFrame"
   ]
  },
  {
   "cell_type": "code",
   "execution_count": 13,
   "metadata": {
    "collapsed": false,
    "deletable": true,
    "editable": true
   },
   "outputs": [
    {
     "data": {
      "text/html": [
       "<div>\n",
       "<table border=\"1\" class=\"dataframe\">\n",
       "  <thead>\n",
       "    <tr style=\"text-align: right;\">\n",
       "      <th></th>\n",
       "      <th>percentVoting</th>\n",
       "      <th>target</th>\n",
       "    </tr>\n",
       "    <tr>\n",
       "      <th>County</th>\n",
       "      <th></th>\n",
       "      <th></th>\n",
       "    </tr>\n",
       "  </thead>\n",
       "  <tbody>\n",
       "    <tr>\n",
       "      <th>Autauga, AL</th>\n",
       "      <td>30.92</td>\n",
       "      <td>0</td>\n",
       "    </tr>\n",
       "    <tr>\n",
       "      <th>Baldwin, AL</th>\n",
       "      <td>26.24</td>\n",
       "      <td>0</td>\n",
       "    </tr>\n",
       "    <tr>\n",
       "      <th>Barbour, AL</th>\n",
       "      <td>46.36</td>\n",
       "      <td>1</td>\n",
       "    </tr>\n",
       "    <tr>\n",
       "      <th>Blount, AL</th>\n",
       "      <td>32.92</td>\n",
       "      <td>0</td>\n",
       "    </tr>\n",
       "    <tr>\n",
       "      <th>Bullock, AL</th>\n",
       "      <td>67.67</td>\n",
       "      <td>1</td>\n",
       "    </tr>\n",
       "    <tr>\n",
       "      <th>Butler, AL</th>\n",
       "      <td>47.43</td>\n",
       "      <td>1</td>\n",
       "    </tr>\n",
       "    <tr>\n",
       "      <th>Calhoun, AL</th>\n",
       "      <td>38.44</td>\n",
       "      <td>0</td>\n",
       "    </tr>\n",
       "    <tr>\n",
       "      <th>Chambers, AL</th>\n",
       "      <td>45.36</td>\n",
       "      <td>1</td>\n",
       "    </tr>\n",
       "    <tr>\n",
       "      <th>Cherokee, AL</th>\n",
       "      <td>53.61</td>\n",
       "      <td>1</td>\n",
       "    </tr>\n",
       "    <tr>\n",
       "      <th>Chilton, AL</th>\n",
       "      <td>34.19</td>\n",
       "      <td>0</td>\n",
       "    </tr>\n",
       "  </tbody>\n",
       "</table>\n",
       "</div>"
      ],
      "text/plain": [
       "              percentVoting  target\n",
       "County                             \n",
       "Autauga, AL           30.92       0\n",
       "Baldwin, AL           26.24       0\n",
       "Barbour, AL           46.36       1\n",
       "Blount, AL            32.92       0\n",
       "Bullock, AL           67.67       1\n",
       "Butler, AL            47.43       1\n",
       "Calhoun, AL           38.44       0\n",
       "Chambers, AL          45.36       1\n",
       "Cherokee, AL          53.61       1\n",
       "Chilton, AL           34.19       0"
      ]
     },
     "execution_count": 13,
     "metadata": {},
     "output_type": "execute_result"
    }
   ],
   "source": [
    "from copy import deepcopy\n",
    "Clinton_df_copy = deepcopy(Clinton_df)\n",
    "mask = (Clinton_df_copy['percentVoting'] >= 40)\n",
    "Clinton_df_copy['target'] = 0\n",
    "Clinton_df_copy.ix[mask, 'target'] = 1\n",
    "\n",
    "# show the first 10 rows to check the results\n",
    "Clinton_df_copy[['percentVoting', 'target']] [:10]"
   ]
  },
  {
   "cell_type": "markdown",
   "metadata": {
    "deletable": true,
    "editable": true
   },
   "source": [
    "# Q10 - Create training and test sets\n",
    "[Q10 8 points] Create training and test sets. Create design matrices for predicting the target using just the two features poverty and popdensity. Split this into design matrices for training and testing datasets, with 70% data being used for training, and 30% for testing."
   ]
  },
  {
   "cell_type": "markdown",
   "metadata": {},
   "source": [
    "### Method \n",
    "(1) use dmatrices to get Y, and X <br\\>\n",
    "(2) import the train_test_split from sklean.model selection to split the data into test and training data <br\\>\n"
   ]
  },
  {
   "cell_type": "code",
   "execution_count": 14,
   "metadata": {
    "collapsed": false,
    "deletable": true,
    "editable": true
   },
   "outputs": [
    {
     "name": "stdout",
     "output_type": "stream",
     "text": [
      "Design matrix X\n",
      "             Poverty  Density\n",
      "County                       \n",
      "Autauga, AL     15.2     60.4\n",
      "Baldwin, AL     13.6     66.5\n",
      "Barbour, AL     25.0     28.8\n",
      "Blount, AL      15.0     62.4\n",
      "Bullock, AL     33.0     17.6\n",
      "Outcomes Y\n",
      "             target\n",
      "County             \n",
      "Autauga, AL     0.0\n",
      "Baldwin, AL     0.0\n",
      "Barbour, AL     1.0\n",
      "Blount, AL      0.0\n",
      "Bullock, AL     1.0\n"
     ]
    }
   ],
   "source": [
    "Y, X = dmatrices('target ~ 0 + Poverty + Density', Clinton_df_copy, return_type=\"dataframe\")\n",
    "\n",
    "#test\n",
    "print 'Design matrix X'\n",
    "print X[:5]\n",
    "print 'Outcomes Y'\n",
    "print Y[:5]"
   ]
  },
  {
   "cell_type": "code",
   "execution_count": 15,
   "metadata": {
    "collapsed": false,
    "deletable": true,
    "editable": true
   },
   "outputs": [
    {
     "name": "stderr",
     "output_type": "stream",
     "text": [
      "C:\\Program Files\\Anaconda2\\lib\\site-packages\\sklearn\\cross_validation.py:44: DeprecationWarning: This module was deprecated in version 0.18 in favor of the model_selection module into which all the refactored classes and functions are moved. Also note that the interface of the new CV iterators are different from that of this module. This module will be removed in 0.20.\n",
      "  \"This module will be removed in 0.20.\", DeprecationWarning)\n"
     ]
    },
    {
     "data": {
      "text/plain": [
       "(Poverty    1892\n",
       " Density    1892\n",
       " dtype: int64, Poverty    812\n",
       " Density    812\n",
       " dtype: int64)"
      ]
     },
     "execution_count": 15,
     "metadata": {},
     "output_type": "execute_result"
    }
   ],
   "source": [
    "# create the training and test set after dmatrices give us Y and X\n",
    "from sklearn.cross_validation import train_test_split\n",
    "X_train, X_test, y_train, y_test = train_test_split(X, Y, test_size=0.3, random_state=1)\n",
    "\n",
    "#test\n",
    "X_train.count(), X_test.count()"
   ]
  },
  {
   "cell_type": "markdown",
   "metadata": {
    "deletable": true,
    "editable": true
   },
   "source": [
    "# Q11 - Accuracy of classification\n",
    "[Q11 12 points] Accuracy of classification. Use a K-nearest neighbors classifier to predict the target using the two given features, using 1, 3, 5, 10, 20, 50, 100, and 1000 nearest neighbors respectively. Print out the training and test accuracy for each of these."
   ]
  },
  {
   "cell_type": "markdown",
   "metadata": {},
   "source": [
    "### Method \n",
    "(1) create a list to record the number of nearest neighbors we need to test, the list has 1, 3, 5, 10, 20, 50, 100, and 1000 nearest neighbors respectively. <br \\ >\n",
    "(2) loop through the item in the list one by one, so that we get the training and test accuracy for each of these <br \\>\n",
    "(3) inside the loop, we build the model with KNeighborsClassifier, fit the model, use the model to predict, and get the accuracy of training and test set respectively <br \\>\n",
    "(4) print out the accuracy for each case"
   ]
  },
  {
   "cell_type": "code",
   "execution_count": 16,
   "metadata": {
    "collapsed": false,
    "deletable": true,
    "editable": true
   },
   "outputs": [
    {
     "name": "stderr",
     "output_type": "stream",
     "text": [
      "C:\\Program Files\\Anaconda2\\lib\\site-packages\\ipykernel\\__main__.py:12: DataConversionWarning: A column-vector y was passed when a 1d array was expected. Please change the shape of y to (n_samples, ), for example using ravel().\n"
     ]
    },
    {
     "name": "stdout",
     "output_type": "stream",
     "text": [
      "Accuracy on training data using 1 nearest neighbors 0.997885835095\n",
      "Accuracy on test data using 1 nearest neighbors 0.600985221675\n",
      "\n",
      "Accuracy on training data using 3 nearest neighbors 0.788054968288\n",
      "Accuracy on test data using 3 nearest neighbors 0.635467980296\n",
      "\n",
      "Accuracy on training data using 5 nearest neighbors 0.748414376321\n",
      "Accuracy on test data using 5 nearest neighbors 0.630541871921\n",
      "\n",
      "Accuracy on training data using 10 nearest neighbors 0.720401691332\n",
      "Accuracy on test data using 10 nearest neighbors 0.646551724138\n",
      "\n",
      "Accuracy on training data using 20 nearest neighbors 0.690274841438\n",
      "Accuracy on test data using 20 nearest neighbors 0.658866995074\n",
      "\n",
      "Accuracy on training data using 50 nearest neighbors 0.683932346723\n",
      "Accuracy on test data using 50 nearest neighbors 0.662561576355\n",
      "\n",
      "Accuracy on training data using 100 nearest neighbors 0.677589852008\n",
      "Accuracy on test data using 100 nearest neighbors 0.663793103448\n",
      "\n",
      "Accuracy on training data using 1000 nearest neighbors 0.567124735729\n",
      "Accuracy on test data using 1000 nearest neighbors 0.576354679803\n",
      "\n"
     ]
    }
   ],
   "source": [
    "from sklearn import neighbors\n",
    "from sklearn import metrics\n",
    "\n",
    "num_neighbors = [1, 3, 5, 10, 20, 50, 100, 1000]\n",
    "\n",
    "for num in num_neighbors:\n",
    "    \n",
    "    model = neighbors.KNeighborsClassifier(n_neighbors = num,\n",
    "                                           weights = 'uniform',\n",
    "                                           p=2)\n",
    "    # fit the model\n",
    "    model.fit(X_train, y_train)\n",
    "    \n",
    "    #accuracy on training set\n",
    "    predicted_classes_train = model.predict(X_train)\n",
    "    print \"Accuracy on training data using %d nearest neighbors\"%(num), metrics.accuracy_score(y_train, predicted_classes_train)\n",
    "\n",
    "    #accuracy on test set\n",
    "    predicted_classes = model.predict(X_test)\n",
    "    print \"Accuracy on test data using %d nearest neighbors\"%(num), metrics.accuracy_score(y_test, predicted_classes)\n",
    "    print \n"
   ]
  },
  {
   "cell_type": "markdown",
   "metadata": {
    "deletable": true,
    "editable": true
   },
   "source": [
    "# Q12 - Plots and reasons\n",
    "[Q12 8 points] Plots and reasons. Show a scatter plot of popdensity versus poverty, and color the points according to the target (i.e., each point in the scatter plot represents a county, and the color of the county depends on the value of target for that county). Can you interpret the plot? What types of counties voted for Bill Clinton?"
   ]
  },
  {
   "cell_type": "markdown",
   "metadata": {},
   "source": [
    "### Method\n",
    "\n",
    "plot the target as required. lable taget = 0 as black, and target = 1 as red"
   ]
  },
  {
   "cell_type": "code",
   "execution_count": 17,
   "metadata": {
    "collapsed": false,
    "deletable": true,
    "editable": true
   },
   "outputs": [
    {
     "data": {
      "image/png": "[encoded data removed]",
      "text/plain": [
       "<matplotlib.figure.Figure at 0xd259780>"
      ]
     },
     "metadata": {},
     "output_type": "display_data"
    }
   ],
   "source": [
    "target0 = Clinton_df_copy[Clinton_df_copy['target'] == 0]\n",
    "target1 = Clinton_df_copy[Clinton_df_copy['target'] == 1]\n",
    "Clinton_df_copy\n",
    "\n",
    "plt.figure(figsize=(16,10))\n",
    "plot(target0['Poverty'], target0 ['Density'], marker='o', color='black', linestyle='None', label='target is 0')\n",
    "plot(target1['Poverty'], target1 ['Density'], marker='o', color='red', linestyle='None', label='target is 1')\n",
    "\n",
    "xlabel('Poverty')\n",
    "ylabel('Density')\n",
    "\n",
    "legend(numpoints=6, loc='best')\n",
    "plt.show()\n"
   ]
  },
  {
   "cell_type": "markdown",
   "metadata": {
    "collapsed": true,
    "deletable": true,
    "editable": true
   },
   "source": [
    "### Reasoning for this question: \n",
    "\n",
    "(1) Generally, the counties with high density (more than 5000) votes for Cliton and <br \\>\n",
    "(2) More counties of percent in poverty more than 10 votes for Clinton than those that did not vote for Cliton\n",
    "<br \\> Note that there are still a lot of counties of percent in poverty more than 10 not vote for Cliton, they are just overshaded by a larger number of counties that vote for Clinton in the scatterplot above \n"
   ]
  }
 ],
 "metadata": {
  "anaconda-cloud": {},
  "kernelspec": {
   "display_name": "Python [default]",
   "language": "python",
   "name": "python2"
  },
  "language_info": {
   "codemirror_mode": {
    "name": "ipython",
    "version": 2
   },
   "file_extension": ".py",
   "mimetype": "text/x-python",
   "name": "python",
   "nbconvert_exporter": "python",
   "pygments_lexer": "ipython2",
   "version": "2.7.12"
  }
 },
 "nbformat": 4,
 "nbformat_minor": 1
}
