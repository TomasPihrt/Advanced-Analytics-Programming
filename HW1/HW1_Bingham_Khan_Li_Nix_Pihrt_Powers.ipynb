{
 "cells": [
  {
   "cell_type": "markdown",
   "metadata": {},
   "source": [
    "# Assignment 1"
   ]
  },
  {
   "cell_type": "markdown",
   "metadata": {},
   "source": [
    "# Q1: "
   ]
  },
  {
   "cell_type": "markdown",
   "metadata": {},
   "source": [
    "Problem is broken into 3 functions, user_input, print_output, and main. \n",
    "\n",
    "Use random method to generate the move for computer when player do not have preference toward a move;\n",
    "\n",
    "Player's moves are recorded in a dictionary called \"p\"\n",
    "\n",
    "After the computer sees player's preference in \"p\", the computer will hit a move against that "
   ]
  },
  {
   "cell_type": "code",
   "execution_count": 1,
   "metadata": {
    "collapsed": false
   },
   "outputs": [
    {
     "name": "stdout",
     "output_type": "stream",
     "text": [
      "Please enter Rock, Paper, and Scissors, or Q to quit: r\n"
     ]
    },
    {
     "data": {
      "text/plain": [
       "'R'"
      ]
     },
     "execution_count": 1,
     "metadata": {},
     "output_type": "execute_result"
    }
   ],
   "source": [
    "def user_input():\n",
    "    \"\"\"Get user input and convert to match capitlization \n",
    "    funtion takes no parameters and returns the user's play\"\"\"\n",
    "    player = raw_input(\"Please enter Rock, Paper, and Scissors, or Q to quit: \")\n",
    "    player = player.lower()\n",
    "    return player.capitalize()\n",
    "user_input()"
   ]
  },
  {
   "cell_type": "code",
   "execution_count": 2,
   "metadata": {
    "collapsed": false
   },
   "outputs": [
    {
     "name": "stdout",
     "output_type": "stream",
     "text": [
      "Number of rounds: 2\n",
      "Number of wins by user: 5\n",
      "Number of wins by computer: 7\n",
      "Number of ties: 1\n"
     ]
    }
   ],
   "source": [
    "def print_output(x, y, z, t):\n",
    "    \"\"\"function to print output statistics;\n",
    "    function takes the arguments for rounds played,\n",
    "    user wins, computer wins, and ties.\"\"\"\n",
    "    \n",
    "    print \"Number of rounds: \" + str(x)\n",
    "    print \"Number of wins by user: \" + str(y)\n",
    "    print \"Number of wins by computer: \" + str(z)\n",
    "    print \"Number of ties: \" + str(t)\n",
    "print_output(2, 5, 7, 1)"
   ]
  },
  {
   "cell_type": "code",
   "execution_count": 3,
   "metadata": {
    "collapsed": false
   },
   "outputs": [
    {
     "name": "stdout",
     "output_type": "stream",
     "text": [
      "Please enter Rock, Paper, and Scissors, or Q to quit: r\n",
      "That's not a valid choice\n",
      "Please enter Rock, Paper, and Scissors, or Q to quit: R\n",
      "That's not a valid choice\n",
      "Please enter Rock, Paper, and Scissors, or Q to quit: Rock\n",
      "You win! Rock smashes Scissors\n",
      "Please enter Rock, Paper, and Scissors, or Q to quit: Q\n",
      "You have quit the game\n",
      "Number of rounds: 3\n",
      "Number of wins by user: 1\n",
      "Number of wins by computer: 0\n",
      "Number of ties: 0\n"
     ]
    }
   ],
   "source": [
    "from random import randint\n",
    "\n",
    "def main():\n",
    "    \"\"\"Play the game; function takes no parameters;\n",
    "    returns game results and round statistics\"\"\"\n",
    "    \n",
    "    c = [\"Rock\", \"Paper\", \"Scissors\"]\n",
    "    \n",
    "    p = {\"Rock\":0, \"Paper\":0, \"Scissors\":0}\n",
    "    \n",
    "    player = \"Rock\"\n",
    "    \n",
    "    rounds = 0\n",
    "    user_wins = 0\n",
    "    comp_wins = 0\n",
    "    ties = 0\n",
    "    \n",
    "    while player != \"Q\":\n",
    "        \n",
    "        #Computer's Move\n",
    "        \n",
    "        if p[\"Rock\"] > p[\"Paper\"] and p[\"Rock\"] > p[\"Scissors\"]:\n",
    "            computer = \"Paper\"\n",
    "        elif p[\"Paper\"] > p[\"Rock\"] and p[\"Paper\"] > p[\"Scissors\"]:\n",
    "            computer = \"Scissors\"\n",
    "        elif p[\"Scissors\"] > p[\"Paper\"] and p[\"Scissors\"] > p[\"Rock\"]:\n",
    "            computer = \"Rock\"\n",
    "        else:\n",
    "            computer = c[randint(0,2)]    \n",
    "        \n",
    "        #Player input and record his/her input\n",
    "        #player = raw_input(\"Please enter Rock, Paper, and Scissors, or q to quit: \")\n",
    "        player = user_input()\n",
    "        \n",
    "        if player in list(p):\n",
    "            p[player] += 1\n",
    "        #print (p)\n",
    "            \n",
    "        #Result    \n",
    "        if player == computer:\n",
    "            print(\"Tie!\")\n",
    "            ties += 1\n",
    "        elif player == \"Rock\":\n",
    "            if computer == \"Paper\":\n",
    "                print(\"You lose! \" + computer + \" covers \" + player)\n",
    "                comp_wins += 1\n",
    "            else:\n",
    "                print(\"You win! \" + player + \" smashes \" + computer)\n",
    "                user_wins += 1\n",
    "        elif player == \"Paper\":\n",
    "            if computer == \"Scissors\":\n",
    "                print (\"You lose! \" + computer + \" cut \" + player)\n",
    "                comp_wins += 1\n",
    "            else:\n",
    "                print(\"You win! \" + player + \" covers \" + computer)\n",
    "                user_wins += 1\n",
    "        elif player == \"Scissors\":\n",
    "            if computer == \"Rock\":\n",
    "                print(\"You lose! \" + computer + \" smashes \" + player)\n",
    "                comp_wins += 1\n",
    "            else:\n",
    "                print(\"You win! \" + player + \" cut \" + computer)\n",
    "                user_wins += 1\n",
    "        elif player == \"Q\":\n",
    "            print (\"You have quit the game\")\n",
    "            continue\n",
    "        else:\n",
    "            print(\"That's not a valid choice\")\n",
    "        \n",
    "        rounds += 1\n",
    "        \n",
    "    print_output(rounds, user_wins, comp_wins, ties)\n",
    "        \n",
    "main()"
   ]
  },
  {
   "cell_type": "markdown",
   "metadata": {},
   "source": [
    "# Q2"
   ]
  },
  {
   "cell_type": "markdown",
   "metadata": {},
   "source": [
    "Problem is broken into 4 functions: fix_string, out_trans, read_file, and main. "
   ]
  },
  {
   "cell_type": "code",
   "execution_count": 4,
   "metadata": {
    "collapsed": false
   },
   "outputs": [
    {
     "data": {
      "text/plain": [
       "'Mr & Mrs Smith'"
      ]
     },
     "execution_count": 4,
     "metadata": {},
     "output_type": "execute_result"
    }
   ],
   "source": [
    "def fix_string(x):\n",
    "    \"\"\"function to fix capitaliztion for output;\n",
    "    function takes string in and returns a string\"\"\"\n",
    "    l = x.split(\" \")\n",
    "    out = \"\"\n",
    "    for i in l:\n",
    "        i = i.capitalize() + \" \"\n",
    "        out += i\n",
    "    out = out.strip(' ')\n",
    "    return out\n",
    "fix_string(\"mr & mrs smith\")"
   ]
  },
  {
   "cell_type": "code",
   "execution_count": 5,
   "metadata": {
    "collapsed": false
   },
   "outputs": [
    {
     "data": {
      "text/plain": [
       "'Name1, Name2'"
      ]
     },
     "execution_count": 5,
     "metadata": {},
     "output_type": "execute_result"
    }
   ],
   "source": [
    "def out_trans(x):\n",
    "    \"\"\"function to transform a set or list into a string;\n",
    "    takes in a set or list and returns a string\"\"\"\n",
    "    \n",
    "    #generate an according string depends on the number of item in the input set\n",
    "    \n",
    "    count = 0\n",
    "    out = \"\"\n",
    "    for item in x:\n",
    "        count += 1\n",
    "        \n",
    "    if count <= 1:\n",
    "        for item in x:\n",
    "            item = fix_string(item)\n",
    "            out += item\n",
    "            \n",
    "    if count > 1:\n",
    "        for item in x:\n",
    "            item = fix_string(item)\n",
    "            out += item +\", \"\n",
    "        out = out.rstrip(\", \")\n",
    "            \n",
    "    return out\n",
    "\n",
    "\n",
    "\n",
    "out_trans([\"name1\", \"name2\"])"
   ]
  },
  {
   "cell_type": "code",
   "execution_count": 6,
   "metadata": {
    "collapsed": false
   },
   "outputs": [
    {
     "data": {
      "text/plain": [
       "{'a beautiful mind': ['russell crowe'],\n",
       " 'a few good men': ['tom cruise', 'kevin bacon'],\n",
       " 'ace ventura': ['jim carrey'],\n",
       " 'american gangster': ['denzel washington', 'russell crowe'],\n",
       " 'apollo 13': ['tom hanks'],\n",
       " 'assassins': ['sylvester stallone', 'julianne moore'],\n",
       " 'blood diamond': ['leonardo di caprio'],\n",
       " 'bone collector': ['angelina jolie', 'denzel washington', 'morgan freeman'],\n",
       " 'bounce': ['gwyneth paltrow', 'ben affleck'],\n",
       " 'bourne identity': ['matt damon'],\n",
       " 'bourne ultimatum': ['matt damon'],\n",
       " 'bruce almighty': ['morgan freeman', 'jim carrey'],\n",
       " 'catch me if you can': ['tom hanks', 'leonardo di caprio'],\n",
       " 'cinderella man': ['russell crowe', 'renee zellweger'],\n",
       " 'desperado': ['antonio banderas', 'salma hayek'],\n",
       " 'die hard': ['bruce willis'],\n",
       " 'edward scissorhands': ['johnny depp'],\n",
       " 'finding neverland': ['johnny depp', 'kate winslet'],\n",
       " 'gladiator': ['russell crowe'],\n",
       " 'good will hunting': ['matt damon', 'ben affleck'],\n",
       " 'hannibal': ['anthony hopkins', 'julianne moore'],\n",
       " 'hitch': ['will smith'],\n",
       " 'intolerable cruelty': ['george clooney', 'catherine zeta jones'],\n",
       " 'jerry maguire': ['tom cruise', 'renee zellweger'],\n",
       " 'lara croft tomb raider': ['angelina jolie'],\n",
       " 'me-myself & irene': ['jim carrey', 'renee zellweger'],\n",
       " 'meet joe black': ['brad pitt', 'anthony hopkins'],\n",
       " 'men in black': ['will smith'],\n",
       " 'million dollar baby': ['morgan freeman'],\n",
       " 'mission impossible': ['tom cruise'],\n",
       " 'mr & mrs smith': ['brad pitt', 'angelina jolie'],\n",
       " 'national treasure': ['diane kruger'],\n",
       " 'oceans eleven': ['brad pitt', 'julia roberts', 'george clooney'],\n",
       " 'pearl harbor': ['alec baldwin', 'ben affleck'],\n",
       " 'pretty woman': ['julia roberts'],\n",
       " 'proof': ['anthony hopkins', 'gwyneth paltrow'],\n",
       " 'pulp fiction': ['bruce willis'],\n",
       " 'pursuit of happyness': ['will smith'],\n",
       " 'rambo': ['sylvester stallone'],\n",
       " 'rocky': ['sylvester stallone'],\n",
       " 'runaway bride': ['julia roberts'],\n",
       " 'seven': ['brad pitt', 'morgan freeman'],\n",
       " 'shakespeare in love': ['gwyneth paltrow'],\n",
       " 'sleepers': ['brad pitt', 'dustin hoffman', 'kevin bacon'],\n",
       " 'sleepless in seattle': ['tom hanks', 'meg ryan'],\n",
       " 'the departed': ['leonardo di caprio', 'matt damon'],\n",
       " 'the edge': ['anthony hopkins', 'alec baldwin'],\n",
       " 'the lost city': ['dustin hoffman'],\n",
       " 'the mask': ['jim carrey'],\n",
       " 'the mask of zorro': ['antonio banderas', 'catherine zeta jones'],\n",
       " 'the pirates of caribbean': ['johnny depp'],\n",
       " 'the siege': ['denzel washington', 'bruce willis'],\n",
       " 'the sixth sense': ['bruce willis'],\n",
       " 'titanic': ['leonardo di caprio', 'kate winslet'],\n",
       " 'top gun': ['tom cruise'],\n",
       " 'troy': ['brad pitt', 'diane kruger'],\n",
       " 'wild wild west': ['salma hayek', 'will smith'],\n",
       " 'you have got mail': ['tom hanks', 'meg ryan']}"
      ]
     },
     "execution_count": 6,
     "metadata": {},
     "output_type": "execute_result"
    }
   ],
   "source": [
    "def read_file():\n",
    "    \"\"\"function to read file and create a dictionary of movies and actors;\n",
    "    takes no input and returns the dictionary\"\"\"\n",
    "    \n",
    "    infile = open(\"data/movies.csv\",\"r\")\n",
    "    \n",
    "    #create a dictionary, using a movie as a key, and a list of actor as the value\n",
    "    dic = {}\n",
    "    \n",
    "    for line in infile:\n",
    "        \n",
    "        line = line.strip()\n",
    "        line = line.lower()\n",
    "        list1 = line.split(\",\")\n",
    "        \n",
    "        \n",
    "        for item in list1[1:]:\n",
    "            \n",
    "            # if movie not in dictionary, add it as key with the value of the actor\n",
    "            list2 = []\n",
    "            if item not in dic:\n",
    "                list2.append(list1[0])\n",
    "                dic[item] = list2\n",
    "                \n",
    "            #if the movie is in the dictionary, append the actor to the value, which is a list\n",
    "            else:\n",
    "                dic[item].append(str(list1[0]))\n",
    "                \n",
    "    infile.close()\n",
    "    \n",
    "    return dic\n",
    "\n",
    "read_file()"
   ]
  },
  {
   "cell_type": "code",
   "execution_count": 7,
   "metadata": {
    "collapsed": false
   },
   "outputs": [
    {
     "name": "stdout",
     "output_type": "stream",
     "text": [
      "Please enter movie 1: you have got mail\n",
      "Please enter movie 2: troy\n",
      "\n",
      "You Have Got Mail has this list of actors:  Tom Hanks, Meg Ryan\n",
      "\n",
      "Troy has this list of actors:  Brad Pitt, Diane Kruger\n",
      "\n",
      "All the actors who were in both movies: \n",
      "\n",
      "All the actors who were in Movie 1 but not in Movie 2: Tom Hanks, Meg Ryan\n",
      "\n",
      "Everyone in Movie 2 but not in Movie 1: Brad Pitt, Diane Kruger\n",
      "\n"
     ]
    }
   ],
   "source": [
    "def main():\n",
    "    \"\"\"main function to find movie/actor matches;\n",
    "    takes no arguments; outputs movie/actor statistics\"\"\"\n",
    "    \n",
    "    dic = read_file()\n",
    "    \n",
    "    #a 2d-list consist of dictionary\n",
    "    movie_list = dic.keys()\n",
    "\n",
    "    \n",
    "    #ask for user input and check the input\n",
    "    movie1 = raw_input(\"Please enter movie 1: \")    \n",
    "    movie1 = movie1.lower()\n",
    "    while movie1 not in movie_list:\n",
    "        print(\"Sorry, this movie is not on file! \")\n",
    "        movie1 = raw_input(\"Please enter movie 1: \") \n",
    "    movie1 = movie1.lower()\n",
    "    \n",
    "    \n",
    "    movie2 = raw_input(\"Please enter movie 2: \")\n",
    "    movie2 = movie2.lower()\n",
    "    while movie2 not in movie_list:\n",
    "        print(\"Sorry, this movie is not on file! \")\n",
    "        movie1 = raw_input(\"Please enter movie 2: \")\n",
    "    movie2 = movie2.lower()\n",
    "    \n",
    "    \n",
    "    \n",
    "    # get all the actors for movie1 and movie2\n",
    "    actor1 = dic[movie1]\n",
    "    actor2 = dic[movie2]\n",
    "    \n",
    "    actor1String = out_trans(actor1)\n",
    "    actor2String = out_trans(actor2)\n",
    "    \n",
    "    movie1 = fix_string(movie1)\n",
    "    movie2 = fix_string(movie2)\n",
    "    \n",
    "    # display the result\n",
    "    print\n",
    "    print movie1+\" has this list of actors: \", actor1String\n",
    "    print \n",
    "    print movie2+\" has this list of actors: \", actor2String\n",
    "    print\n",
    "    \n",
    "    #use set to get actors who were in both movies\n",
    "    both = set(actor1) & set(actor2)\n",
    "    #use set to get actors who were in Movie 1 but not in Movie 2\n",
    "    in1 = set(actor1) - set(actor2)\n",
    "    #use set to get Everyone in Movie 2 but not in Movie 1\n",
    "    in2 = set(actor2) - set(actor1)\n",
    "    \n",
    "    \n",
    "    # transform the set into an output string based on the out_trans function\n",
    "    # nothing serious, only for output purposes\n",
    "    out1 = out_trans(both)\n",
    "    out2 = out_trans(in1)   \n",
    "    out3 = out_trans(in2)\n",
    "    \n",
    "    #display the results\n",
    "    print \"All the actors who were in both movies: \" + out1\n",
    "    print\n",
    "    print \"All the actors who were in Movie 1 but not in Movie 2: \" + out2\n",
    "    print\n",
    "    print \"Everyone in Movie 2 but not in Movie 1: \" + out3\n",
    "    print\n",
    "         \n",
    "        \n",
    "main()"
   ]
  },
  {
   "cell_type": "markdown",
   "metadata": {},
   "source": [
    "# Q3"
   ]
  },
  {
   "cell_type": "markdown",
   "metadata": {},
   "source": [
    "Problem is broken into 2 functions: read_file and main."
   ]
  },
  {
   "cell_type": "code",
   "execution_count": 8,
   "metadata": {
    "collapsed": false
   },
   "outputs": [
    {
     "data": {
      "text/plain": [
       "([['He took a drag of the eight elements that composed,',\n",
       "   5,\n",
       "   'atmospheric gas'],\n",
       "  [\"'Bout to let off his sword, and\", 6, 'XXX'],\n",
       "  ['Kept his mind', 3, 'focused'],\n",
       "  ['meditation position', 2, 'XXX'],\n",
       "  [\"Abbot's sword novas couldn't match\", 1, 'XXX'],\n",
       "  ['Deluxe stroke', 4, ''],\n",
       "  ['son move like a', 3, 'ghost'],\n",
       "  ['Struck in an instance,', 4, ''],\n",
       "  ['unnoticed like a', 2, 'XXX'],\n",
       "  ['Radar sharp precision gunfire,', 4, ''],\n",
       "  ['', 0, 'explode'],\n",
       "  ['Till his clips', 2, 'XXX'],\n",
       "  [\"it's a samurai\", 3, 'XXX']],\n",
       " [['atmospheric gas', 'as', 3],\n",
       "  ['full blast', 'as', 2],\n",
       "  ['focused', 'us', 1],\n",
       "  ['half lotus', 'us', 2],\n",
       "  ['his magnum opus', 'us', 3],\n",
       "  ['stroke', 'ok', 1],\n",
       "  ['ghost', 'ost', 1],\n",
       "  ['lamp post', 'ost', 2],\n",
       "  ['explode', 'ode', 4],\n",
       "  ['unload', 'ode', 2],\n",
       "  ['code', 'ode', 1]])"
      ]
     },
     "execution_count": 8,
     "metadata": {},
     "output_type": "execute_result"
    }
   ],
   "source": [
    "def read_file():\n",
    "    \"\"\"function reads file and creates two lists based on each file;\n",
    "    takes no arguments and returns two lists for the skeleton and endings\"\"\"\n",
    "    \n",
    "    skeleton_file = open(\"data/skeleton_SamuraiShowdown.txt\", \"r\")\n",
    "    ending_file = open(\"data/endings.txt\", \"r\")\n",
    "    skeleton_list = []\n",
    "    ending_list = []\n",
    "    \n",
    "    for line in skeleton_file:\n",
    "        line_components = line.strip().split(\"::\")\n",
    "        line_components[1] = int(line_components[1])\n",
    "        \n",
    "        skeleton_list.append(line_components)\n",
    "        \n",
    "    for line in ending_file:\n",
    "        line_components = line.strip().split(\"::\")\n",
    "        line_components[2] = int(line_components[2])\n",
    "        \n",
    "        ending_list.append(line_components)     \n",
    "\n",
    "    skeleton_file.close()\n",
    "    ending_file.close()\n",
    "    \n",
    "    return (skeleton_list,ending_list)\n",
    "\n",
    "read_file()"
   ]
  },
  {
   "cell_type": "code",
   "execution_count": 9,
   "metadata": {
    "collapsed": false
   },
   "outputs": [
    {
     "name": "stdout",
     "output_type": "stream",
     "text": [
      "He took a drag of the eight elements that composed,atmospheric gas\n",
      "'Bout to let off his sword, andfull blast\n",
      "Kept his mindfocused\n",
      "meditation positionhalf lotus\n",
      "Abbot's sword novas couldn't matchhis magnum opus\n",
      "Deluxe stroke\n",
      "son move like aghost\n",
      "Struck in an instance,\n",
      "unnoticed like alamp post\n",
      "Radar sharp precision gunfire,\n",
      "explode\n",
      "Till his clipsunload\n",
      "it's a samuraicode\n"
     ]
    }
   ],
   "source": [
    "def main():\n",
    "    \"\"\"main function to comapare the skeleton and endings and compose the song;\n",
    "    takes no arguments and outputs the full song lyrics\"\"\"\n",
    "    \n",
    "    skeleton_list, ending_list = read_file()\n",
    "    \n",
    "    latest_beat_total = 0\n",
    "    latest_rhyme = \"\"\n",
    "    \n",
    "    for index, item in enumerate(skeleton_list):\n",
    "        #print index, item\n",
    "                \n",
    "                \n",
    "        if item[2] != \"XXX\":\n",
    "            #look at prev beats and rhymes\n",
    "            \n",
    "            for ending in ending_list:\n",
    "                if ending[0] == item[2]:\n",
    "                    latest_beat_total = item[1] + ending[2]\n",
    "                    latest_rhyme = ending[1]\n",
    "                    #print latest_beat_total,latest_rhyme\n",
    "                \n",
    "        else:\n",
    "            #print latest_beat_total,latest_rhyme\n",
    "            target_ending_beat = latest_beat_total - item[1]\n",
    "            \n",
    "            for ending in ending_list:\n",
    "                if ending[2] == target_ending_beat and ending[1] == latest_rhyme:\n",
    "                    item[2] = ending[0]\n",
    "                    \n",
    "        full_line = str(item[0] + item[2])\n",
    "        full_line = full_line.strip()\n",
    "        \n",
    "            \n",
    "        print full_line\n",
    "main()"
   ]
  }
 ],
 "metadata": {
  "anaconda-cloud": {},
  "kernelspec": {
   "display_name": "Python [default]",
   "language": "python",
   "name": "python2"
  },
  "language_info": {
   "codemirror_mode": {
    "name": "ipython",
    "version": 2
   },
   "file_extension": ".py",
   "mimetype": "text/x-python",
   "name": "python",
   "nbconvert_exporter": "python",
   "pygments_lexer": "ipython2",
   "version": "2.7.12"
  }
 },
 "nbformat": 4,
 "nbformat_minor": 1
}
